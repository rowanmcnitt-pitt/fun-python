{
 "cells": [
  {
   "cell_type": "code",
   "execution_count": null,
   "metadata": {},
   "outputs": [],
   "source": [
    "import pandas as pd\n",
    "\n",
    "data = {'Manufacturer':[],'Cone-Size':[],'Passive or Active':[],'Single or Duel':[],'Price':[],'Website':[]}\n",
    "df = pd.DataFrame(data);\n",
    "print(df);\n",
    "while(True):\n",
    "    print(\"New Entry [0] or display current entries [1]\")\n",
    "    nextLine = input();\n",
    "    if('0' in nextLine):\n",
    "        newMan = \"\";\n",
    "        newCone = \"\";\n",
    "        newAct = \"\";\n",
    "        newDuel = \"\";\n",
    "        newPrice = \"\";\n",
    "        newSite = \"\"\n",
    "        newMan = input(\"Who is the manufacturer?\");\n",
    "        newCone = input(\"Whats the cone size?\");\n",
    "        newAct = input(\"Is it active or passive?\");\n",
    "        newDuel = input(\"Is it a single or duel driver?\");\n",
    "        newPrice = input(\"What's the price?\");\n",
    "        newSite = input(\"What website is it on?\");\n",
    "        df.append({'Manufacturer':newMan,'Cone-Size':newCone,'Passive or Active':newAct,'Single or Duel':newDuel,'Price':newPrice,'Website':newSite}, ignore_index=True)\n",
    "    else:\n",
    "        print(\"Printing new entries..\");\n",
    "        print(df);\n",
    "        "
   ]
  },
  {
   "cell_type": "code",
   "execution_count": null,
   "metadata": {},
   "outputs": [],
   "source": []
  },
  {
   "cell_type": "code",
   "execution_count": null,
   "metadata": {},
   "outputs": [],
   "source": []
  },
  {
   "cell_type": "code",
   "execution_count": null,
   "metadata": {},
   "outputs": [],
   "source": []
  }
 ],
 "metadata": {
  "kernelspec": {
   "display_name": "Python 3.7",
   "language": "python",
   "name": "python3"
  },
  "language_info": {
   "codemirror_mode": {
    "name": "ipython",
    "version": 3
   },
   "file_extension": ".py",
   "mimetype": "text/x-python",
   "name": "python",
   "nbconvert_exporter": "python",
   "pygments_lexer": "ipython3",
   "version": "3.7.0"
  }
 },
 "nbformat": 4,
 "nbformat_minor": 2
}
